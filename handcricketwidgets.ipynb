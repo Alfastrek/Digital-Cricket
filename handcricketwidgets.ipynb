{
 "cells": [
  {
   "cell_type": "code",
   "execution_count": null,
   "id": "8f89930e-0894-4f02-a7b0-8f13e904bd92",
   "metadata": {},
   "outputs": [
    {
     "name": "stdout",
     "output_type": "stream",
     "text": [
      "Hello, Welcome to the Hand Cricket Game!\n"
     ]
    },
    {
     "data": {
      "application/vnd.jupyter.widget-view+json": {
       "model_id": "99c56c01b5964757b1f311fbfca976c3",
       "version_major": 2,
       "version_minor": 0
      },
      "text/plain": [
       "IntText(value=0, description='Total Players on each side:')"
      ]
     },
     "metadata": {},
     "output_type": "display_data"
    },
    {
     "data": {
      "application/vnd.jupyter.widget-view+json": {
       "model_id": "004b2bbbec8344668a1f19e006082b6d",
       "version_major": 2,
       "version_minor": 0
      },
      "text/plain": [
       "Text(value='', description='User Team :')"
      ]
     },
     "metadata": {},
     "output_type": "display_data"
    },
    {
     "data": {
      "application/vnd.jupyter.widget-view+json": {
       "model_id": "648fafc5bad949708500088a551c59fd",
       "version_major": 2,
       "version_minor": 0
      },
      "text/plain": [
       "Text(value='', description='Computer Team :')"
      ]
     },
     "metadata": {},
     "output_type": "display_data"
    },
    {
     "data": {
      "application/vnd.jupyter.widget-view+json": {
       "model_id": "65bc04a7b8aa4bd1b78fedc5e6c2aa7b",
       "version_major": 2,
       "version_minor": 0
      },
      "text/plain": [
       "Button(description='Start Game', style=ButtonStyle())"
      ]
     },
     "metadata": {},
     "output_type": "display_data"
    },
    {
     "name": "stdout",
     "output_type": "stream",
     "text": [
      "\n",
      "Let's Play The Classic ODD/EVEN Game First!\n"
     ]
    }
   ],
   "source": [
    "# Hand Cricket Game with ipywidgets\n",
    "\n",
    "# This is a classic hand cricket game implemented in Python with interactive widgets.\n",
    "\n",
    "# Import necessary libraries:\n",
    "import random\n",
    "import ipywidgets as widgets\n",
    "from IPython.display import display\n",
    "\n",
    "print('Hello, Welcome to the Hand Cricket Game!')\n",
    "gamepl = ['BAT', 'BALL']\n",
    "poss = (0, 1, 2, 3, 4, 5, 6)  # Runs Allowed\n",
    "userrecord = []  # To maintain individual run record\n",
    "comprecord = []\n",
    "Players = None\n",
    "User_team = []\n",
    "Comp_team = []\n",
    "\n",
    "# Create widgets for user input\n",
    "players_input = widgets.IntText(description=\"Total Players on each side:\")\n",
    "user_team_input = widgets.Text(description=\"User Team :\")\n",
    "comp_team_input = widgets.Text(description=\"Computer Team :\")\n",
    "\n",
    "def handle_start_game(sender):\n",
    "    global Players\n",
    "    global User_team\n",
    "    global Comp_team\n",
    "    \n",
    "    Players = players_input.value\n",
    "    User_team = user_team_input.value.split(',')\n",
    "    Comp_team = [(comp_team_input.value, i + 1) for i in range(Players)]\n",
    "    \n",
    "    display_team_overview()\n",
    "    play_game()\n",
    "\n",
    "# Display input widgets\n",
    "display(players_input)\n",
    "display(user_team_input)\n",
    "display(comp_team_input)\n",
    "\n",
    "start_game_button = widgets.Button(description=\"Start Game\")\n",
    "start_game_button.on_click(handle_start_game)\n",
    "display(start_game_button)\n",
    "\n",
    "def display_team_overview():\n",
    "    data = {\"USER TEAM\": User_team,\n",
    "            \"COMP TEAM\": Comp_team}\n",
    "    sr_no = [i + 1 for i in range(Players)]\n",
    "    df = pd.DataFrame(data, index=[sr_no])\n",
    "    print(\"Overview of the TEAMS:\", '\\n', df)\n",
    "\n",
    "# Define game functions:\n",
    "# Function for odd-even game\n",
    "def oddevengame():\n",
    "    global oeresult, oddeve\n",
    "    oddeve = input(\"\\nChoose ODD or EVEN:\")\n",
    "    while oddeve not in [\"ODD\", \"EVEN\"]:\n",
    "        print(\"Invalid choice. Choose ODD or EVEN.\")\n",
    "        oddeve = input(\"Choose ODD or EVEN:\")\n",
    "    oeno = int(input(\"Choose your no (within 0 to 6):\"))  # input for odd-even game\n",
    "    rand = random.choice(poss)\n",
    "    oeresult = oeno + rand  # total result of odd-even game\n",
    "    print(\"Computer Chooses:\", rand,\n",
    "          \"\\nAnd the Total makes:\", oeresult)\n",
    "\n",
    "# Function for batting\n",
    "def batting():\n",
    "    global userteamtotalruns\n",
    "    ballno = 1  # In order to keep the count for balls\n",
    "    user_teamno = 0  # In order to display the current player\n",
    "    userteamtotalruns = 0\n",
    "    userscore = 0\n",
    "    while user_teamno < Players:\n",
    "        print(\"\\nBall no:\", ballno, \"For Player:\", User_team[user_teamno])\n",
    "        runs = int(input('Play Runs:'))\n",
    "        rand1 = random.choice(poss)\n",
    "        print(\"Computer Chooses:\", rand1)\n",
    "        if runs not in poss:  # extra precaution to maintain fair play\n",
    "            print(\"Sorry You are Out!, Only 0 to 6 is the range for runs\")\n",
    "            break\n",
    "        elif rand1 == runs:\n",
    "            print(User_team[user_teamno], \"is OUT!\\n\")\n",
    "            print(\"Your Total Runs after batting are:\", userscore)\n",
    "            ballno = 1  # reset the ball serial no.\n",
    "            user_teamno += 1  # To switch to the next player\n",
    "            userteamtotalruns += userscore  # To maintain Team run record\n",
    "            userrecord.append(userscore)\n",
    "            userscore = 0  # To reset the variable for counting runs for the next player\n",
    "        else:\n",
    "            userscore += runs\n",
    "            ballno += 1\n",
    "            print(\"Your Runs after this round are:\", userscore)\n",
    "    return \"Your Team Total Runs after batting are:\", userteamtotalruns\n",
    "\n",
    "# Function for bowling\n",
    "def balling():\n",
    "    global compteamtotalruns\n",
    "    compscore = 0\n",
    "    ballno = 1\n",
    "    comp_teamno = 0\n",
    "    compteamtotalruns = 0\n",
    "    while comp_teamno < Players:\n",
    "        print(\"\\nBall no:\", ballno, \"For Player:\", Comp_team[comp_teamno])\n",
    "        rand2 = random.choice(poss)\n",
    "        balls = int(input(\"Enter your Bowling input:\"))\n",
    "        print(Comp_team[comp_teamno], \"Chooses:\", rand2)\n",
    "        if balls not in poss:  # extra precaution to maintain fair play\n",
    "            print(\"Sorry You are Out!, Only 0 to 6 is the range for runs\")\n",
    "            break\n",
    "        elif rand2 == balls:\n",
    "            print(\"You Win!\\n\"\n",
    "                  \"The\", Comp_team[comp_teamno], \"is OUT!\")\n",
    "            ballno = 1  # reset the ball serial no.\n",
    "            comp_teamno += 1  # To switch to the next player.\n",
    "            compteamtotalruns += compscore  # To maintain Comp team total record\n",
    "            comprecord.append(compscore)\n",
    "            compscore = 0\n",
    "        else:\n",
    "            compscore += rand2\n",
    "            print(\"Computer Runs after this ball is:\", compscore)\n",
    "            ballno += 1\n",
    "    return \"Computer Team Total Runs are:\", compteamtotalruns\n",
    "\n",
    "# Function for final overview\n",
    "def final_overview():\n",
    "    print(\"\\nTOTAL RUNS OF USER TEAM:\", userteamtotalruns,\n",
    "          \"\\nTOTAL RUNS OF COMPUTER TEAM:\", compteamtotalruns)\n",
    "    if userteamtotalruns > compteamtotalruns:\n",
    "        print(\"\\nYOU WON!!!!\")\n",
    "    elif userteamtotalruns < compteamtotalruns:\n",
    "        print(\"\\nYOU LOSE!!!\")\n",
    "    else:\n",
    "        print(\"\\nIt's A DRAW.\"\n",
    "              \"\\nTHANK YOU FOR PLAYING!\")\n",
    "\n",
    "    playagain = input(\"Do you want to play again? YES/NO:\").upper()\n",
    "    if playagain == 'YES':\n",
    "        play_game()\n",
    "    else:\n",
    "        print('OK')\n",
    "\n",
    "# Define the main game function:\n",
    "def play_game():\n",
    "    print(\"\\nLet's Play The Classic ODD/EVEN Game First!\")\n",
    "    oddevengame()\n",
    "    if (oddeve == 'EVEN' and oeresult % 2 == 0) or (oddeve == \"ODD\" and oeresult % 2 != 0):\n",
    "        print(\"User won the ODD/EVEN Toss!\")\n",
    "        Choice = input(\"Choose BAT OR BALL:\").upper()\n",
    "        if Choice == 'BAT':\n",
    "            batting()\n",
    "            print(\"Now it's your turn to Bowl!\")\n",
    "            balling()\n",
    "            final_overview()\n",
    "        elif Choice == \"BALL\":\n",
    "            balling()\n",
    "            print(\"Now it's your turn to Bat!\")\n",
    "            batting()\n",
    "            final_overview()\n",
    "        else:\n",
    "            print(\"Invalid input\")\n",
    "            pass\n",
    "    elif (oddeve == \"ODD\" and oeresult % 2 == 0) or (oddeve == \"EVEN\" and oeresult % 2 != 0):\n",
    "        print(\"Computer won the ODD/EVEN Toss!\")\n",
    "        Choice1 = random.choice(gamepl)\n",
    "        print(\"\\nComputer chooses to:\", Choice1)\n",
    "        if Choice1 == 'BAT':\n",
    "            balling()\n",
    "            print(\"Now it's your turn to Bat!\")\n",
    "            batting()\n",
    "            final_overview()\n",
    "        elif Choice1 == \"BALL\":\n",
    "            batting()\n",
    "            print(\"Now it's your turn to Bowl!\")\n",
    "            balling()\n",
    "            final_overview()\n",
    "        else:\n",
    "            pass\n",
    "\n",
    "# Run the game function:\n",
    "if __name__ == \"__main__\":\n",
    "    play_game()"
   ]
  },
  {
   "cell_type": "code",
   "execution_count": null,
   "id": "256c4cd5-3ee7-46cc-9fcd-a842d2bf54e3",
   "metadata": {},
   "outputs": [],
   "source": []
  }
 ],
 "metadata": {
  "kernelspec": {
   "display_name": "Python 3 (ipykernel)",
   "language": "python",
   "name": "python3"
  },
  "language_info": {
   "codemirror_mode": {
    "name": "ipython",
    "version": 3
   },
   "file_extension": ".py",
   "mimetype": "text/x-python",
   "name": "python",
   "nbconvert_exporter": "python",
   "pygments_lexer": "ipython3",
   "version": "3.11.8"
  }
 },
 "nbformat": 4,
 "nbformat_minor": 5
}
